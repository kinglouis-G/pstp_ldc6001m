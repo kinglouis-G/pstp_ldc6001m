{
 "cells": [
  {
   "cell_type": "code",
   "execution_count": 1,
   "id": "2694a093-c940-4efb-ac23-43837a3a43a7",
   "metadata": {},
   "outputs": [
    {
     "name": "stdout",
     "output_type": "stream",
     "text": [
      "first seminar, set up class\n"
     ]
    }
   ],
   "source": [
    "print(\"first seminar, set up class\")"
   ]
  },
  {
   "cell_type": "code",
   "execution_count": 2,
   "id": "eb7bb563-16b8-4b73-b965-aba824762cd3",
   "metadata": {},
   "outputs": [
    {
     "name": "stdout",
     "output_type": "stream",
     "text": [
      "comfirmation code is been updated\n"
     ]
    }
   ],
   "source": [
    "print(\"comfirmation code is been updated\")"
   ]
  },
  {
   "cell_type": "code",
   "execution_count": null,
   "id": "a840f3d0-c4af-4619-bde5-62b5d88aa285",
   "metadata": {},
   "outputs": [],
   "source": []
  }
 ],
 "metadata": {
  "kernelspec": {
   "display_name": "Python [conda env:base] *",
   "language": "python",
   "name": "conda-base-py"
  },
  "language_info": {
   "codemirror_mode": {
    "name": "ipython",
    "version": 3
   },
   "file_extension": ".py",
   "mimetype": "text/x-python",
   "name": "python",
   "nbconvert_exporter": "python",
   "pygments_lexer": "ipython3",
   "version": "3.13.5"
  }
 },
 "nbformat": 4,
 "nbformat_minor": 5
}
